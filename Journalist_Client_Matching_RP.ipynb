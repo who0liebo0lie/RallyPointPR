{
  "nbformat": 4,
  "nbformat_minor": 0,
  "metadata": {
    "colab": {
      "provenance": [],
      "authorship_tag": "ABX9TyNa3kBYqiNPpMpFO4ZfR1y/",
      "include_colab_link": true
    },
    "kernelspec": {
      "name": "python3",
      "display_name": "Python 3"
    },
    "language_info": {
      "name": "python"
    }
  },
  "cells": [
    {
      "cell_type": "markdown",
      "metadata": {
        "id": "view-in-github",
        "colab_type": "text"
      },
      "source": [
        "<a href=\"https://colab.research.google.com/github/who0liebo0lie/RallyPointPR/blob/main/Journalist_Client_Matching_RP.ipynb\" target=\"_parent\"><img src=\"https://colab.research.google.com/assets/colab-badge.svg\" alt=\"Open In Colab\"/></a>"
      ]
    },
    {
      "cell_type": "code",
      "execution_count": null,
      "metadata": {
        "id": "fX8hY30I5jam"
      },
      "outputs": [],
      "source": [
        "# Help PR professionals efficiently identify and pitch the most relevant journalists for each client's campaign using intelligent matching."
      ]
    }
  ]
}